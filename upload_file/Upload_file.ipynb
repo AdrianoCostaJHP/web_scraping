{
 "cells": [
  {
   "cell_type": "code",
   "execution_count": 1,
   "metadata": {},
   "outputs": [
    {
     "name": "stderr",
     "output_type": "stream",
     "text": [
      "[WDM] - Downloading: 100%|████████████████████████████████████████████████████████| 6.68M/6.68M [00:00<00:00, 18.5MB/s]\n"
     ]
    },
    {
     "name": "stdout",
     "output_type": "stream",
     "text": [
      "Saindo...\n"
     ]
    },
    {
     "ename": "WebDriverException",
     "evalue": "Message: unknown error: path is not absolute: Aula 4.pdf\n  (Session info: chrome=105.0.5195.102)\nStacktrace:\nBacktrace:\n\tOrdinal0 [0x00C1DF13+2219795]\n\tOrdinal0 [0x00BB2841+1779777]\n\tOrdinal0 [0x00AC423D+803389]\n\tOrdinal0 [0x00ACB9B7+833975]\n\tOrdinal0 [0x00AECD74+970100]\n\tOrdinal0 [0x00B0E7FC+1107964]\n\tOrdinal0 [0x00AE94B4+955572]\n\tOrdinal0 [0x00B0EA14+1108500]\n\tOrdinal0 [0x00B1F192+1175954]\n\tOrdinal0 [0x00B0E616+1107478]\n\tOrdinal0 [0x00AE7F89+950153]\n\tOrdinal0 [0x00AE8F56+954198]\n\tGetHandleVerifier [0x00F12CB2+3040210]\n\tGetHandleVerifier [0x00F02BB4+2974420]\n\tGetHandleVerifier [0x00CB6A0A+565546]\n\tGetHandleVerifier [0x00CB5680+560544]\n\tOrdinal0 [0x00BB9A5C+1808988]\n\tOrdinal0 [0x00BBE3A8+1827752]\n\tOrdinal0 [0x00BBE495+1827989]\n\tOrdinal0 [0x00BC80A4+1867940]\n\tBaseThreadInitThunk [0x77CBFA29+25]\n\tRtlGetAppContainerNamedObjectPath [0x77E07B5E+286]\n\tRtlGetAppContainerNamedObjectPath [0x77E07B2E+238]\n",
     "output_type": "error",
     "traceback": [
      "\u001b[1;31m---------------------------------------------------------------------------\u001b[0m",
      "\u001b[1;31mWebDriverException\u001b[0m                        Traceback (most recent call last)",
      "Input \u001b[1;32mIn [1]\u001b[0m, in \u001b[0;36m<cell line: 65>\u001b[1;34m()\u001b[0m\n\u001b[0;32m     68\u001b[0m bot\u001b[38;5;241m.\u001b[39mfind_process(\u001b[38;5;124m\"\u001b[39m\u001b[38;5;124m90.000616/2022-32\u001b[39m\u001b[38;5;124m\"\u001b[39m)\n\u001b[0;32m     69\u001b[0m bot\u001b[38;5;241m.\u001b[39mhandle_file()\n\u001b[1;32m---> 70\u001b[0m \u001b[43mbot\u001b[49m\u001b[38;5;241;43m.\u001b[39;49m\u001b[43msubmit_form\u001b[49m\u001b[43m(\u001b[49m\u001b[38;5;124;43m\"\u001b[39;49m\u001b[38;5;124;43m8\u001b[39;49m\u001b[38;5;124;43m\"\u001b[39;49m\u001b[43m,\u001b[49m\u001b[43m \u001b[49m\u001b[38;5;124;43m\"\u001b[39;49m\u001b[38;5;124;43m26/05/2022\u001b[39;49m\u001b[38;5;124;43m\"\u001b[39;49m\u001b[43m,\u001b[49m\u001b[43m \u001b[49m\u001b[38;5;124;43m\"\u001b[39;49m\u001b[38;5;124;43mN\u001b[39;49m\u001b[38;5;124;43m\"\u001b[39;49m\u001b[43m,\u001b[49m\u001b[43m \u001b[49m\u001b[38;5;124;43m\"\u001b[39;49m\u001b[38;5;124;43m0\u001b[39;49m\u001b[38;5;124;43m\"\u001b[39;49m\u001b[43m)\u001b[49m\n",
      "Input \u001b[1;32mIn [1]\u001b[0m, in \u001b[0;36mUpload.submit_form\u001b[1;34m(self, type_doc_value, date, doc_format, access)\u001b[0m\n\u001b[0;32m     55\u001b[0m \u001b[38;5;28mself\u001b[39m\u001b[38;5;241m.\u001b[39mfind_element(By\u001b[38;5;241m.\u001b[39mCSS_SELECTOR, \u001b[38;5;124mf\u001b[39m\u001b[38;5;124m\"\u001b[39m\u001b[38;5;124minput[name=rdoNivelAcesso][value=\u001b[39m\u001b[38;5;124m'\u001b[39m\u001b[38;5;132;01m{\u001b[39;00maccess\u001b[38;5;132;01m}\u001b[39;00m\u001b[38;5;124m'\u001b[39m\u001b[38;5;124m]\u001b[39m\u001b[38;5;124m\"\u001b[39m)\u001b[38;5;241m.\u001b[39mclick()\n\u001b[0;32m     57\u001b[0m file \u001b[38;5;241m=\u001b[39m \u001b[38;5;124m\"\u001b[39m\u001b[38;5;124mAula 4.pdf\u001b[39m\u001b[38;5;124m\"\u001b[39m\n\u001b[1;32m---> 59\u001b[0m \u001b[38;5;28;43mself\u001b[39;49m\u001b[38;5;241;43m.\u001b[39;49m\u001b[43mfind_element\u001b[49m\u001b[43m(\u001b[49m\u001b[43mBy\u001b[49m\u001b[38;5;241;43m.\u001b[39;49m\u001b[43mCSS_SELECTOR\u001b[49m\u001b[43m,\u001b[49m\u001b[43m \u001b[49m\u001b[38;5;124;43m\"\u001b[39;49m\u001b[38;5;124;43minput[name=filArquivo]\u001b[39;49m\u001b[38;5;124;43m\"\u001b[39;49m\u001b[43m)\u001b[49m\u001b[38;5;241;43m.\u001b[39;49m\u001b[43msend_keys\u001b[49m\u001b[43m(\u001b[49m\u001b[43mfile\u001b[49m\u001b[43m)\u001b[49m\n\u001b[0;32m     60\u001b[0m time\u001b[38;5;241m.\u001b[39msleep(\u001b[38;5;241m3\u001b[39m)\n\u001b[0;32m     62\u001b[0m \u001b[38;5;28mself\u001b[39m\u001b[38;5;241m.\u001b[39mfind_element(By\u001b[38;5;241m.\u001b[39mCSS_SELECTOR, \u001b[38;5;124m\"\u001b[39m\u001b[38;5;124m#btnSalvar\u001b[39m\u001b[38;5;124m\"\u001b[39m)\u001b[38;5;241m.\u001b[39mclick()\n",
      "File \u001b[1;32m~\\anaconda3\\lib\\site-packages\\selenium\\webdriver\\remote\\webelement.py:223\u001b[0m, in \u001b[0;36mWebElement.send_keys\u001b[1;34m(self, *value)\u001b[0m\n\u001b[0;32m    220\u001b[0m             remote_files\u001b[38;5;241m.\u001b[39mappend(\u001b[38;5;28mself\u001b[39m\u001b[38;5;241m.\u001b[39m_upload(file))\n\u001b[0;32m    221\u001b[0m         value \u001b[38;5;241m=\u001b[39m \u001b[38;5;124m'\u001b[39m\u001b[38;5;130;01m\\n\u001b[39;00m\u001b[38;5;124m'\u001b[39m\u001b[38;5;241m.\u001b[39mjoin(remote_files)\n\u001b[1;32m--> 223\u001b[0m \u001b[38;5;28;43mself\u001b[39;49m\u001b[38;5;241;43m.\u001b[39;49m\u001b[43m_execute\u001b[49m\u001b[43m(\u001b[49m\u001b[43mCommand\u001b[49m\u001b[38;5;241;43m.\u001b[39;49m\u001b[43mSEND_KEYS_TO_ELEMENT\u001b[49m\u001b[43m,\u001b[49m\n\u001b[0;32m    224\u001b[0m \u001b[43m              \u001b[49m\u001b[43m{\u001b[49m\u001b[38;5;124;43m'\u001b[39;49m\u001b[38;5;124;43mtext\u001b[39;49m\u001b[38;5;124;43m'\u001b[39;49m\u001b[43m:\u001b[49m\u001b[43m \u001b[49m\u001b[38;5;124;43m\"\u001b[39;49m\u001b[38;5;124;43m\"\u001b[39;49m\u001b[38;5;241;43m.\u001b[39;49m\u001b[43mjoin\u001b[49m\u001b[43m(\u001b[49m\u001b[43mkeys_to_typing\u001b[49m\u001b[43m(\u001b[49m\u001b[43mvalue\u001b[49m\u001b[43m)\u001b[49m\u001b[43m)\u001b[49m\u001b[43m,\u001b[49m\n\u001b[0;32m    225\u001b[0m \u001b[43m               \u001b[49m\u001b[38;5;124;43m'\u001b[39;49m\u001b[38;5;124;43mvalue\u001b[39;49m\u001b[38;5;124;43m'\u001b[39;49m\u001b[43m:\u001b[49m\u001b[43m \u001b[49m\u001b[43mkeys_to_typing\u001b[49m\u001b[43m(\u001b[49m\u001b[43mvalue\u001b[49m\u001b[43m)\u001b[49m\u001b[43m}\u001b[49m\u001b[43m)\u001b[49m\n",
      "File \u001b[1;32m~\\anaconda3\\lib\\site-packages\\selenium\\webdriver\\remote\\webelement.py:396\u001b[0m, in \u001b[0;36mWebElement._execute\u001b[1;34m(self, command, params)\u001b[0m\n\u001b[0;32m    394\u001b[0m     params \u001b[38;5;241m=\u001b[39m {}\n\u001b[0;32m    395\u001b[0m params[\u001b[38;5;124m'\u001b[39m\u001b[38;5;124mid\u001b[39m\u001b[38;5;124m'\u001b[39m] \u001b[38;5;241m=\u001b[39m \u001b[38;5;28mself\u001b[39m\u001b[38;5;241m.\u001b[39m_id\n\u001b[1;32m--> 396\u001b[0m \u001b[38;5;28;01mreturn\u001b[39;00m \u001b[38;5;28;43mself\u001b[39;49m\u001b[38;5;241;43m.\u001b[39;49m\u001b[43m_parent\u001b[49m\u001b[38;5;241;43m.\u001b[39;49m\u001b[43mexecute\u001b[49m\u001b[43m(\u001b[49m\u001b[43mcommand\u001b[49m\u001b[43m,\u001b[49m\u001b[43m \u001b[49m\u001b[43mparams\u001b[49m\u001b[43m)\u001b[49m\n",
      "File \u001b[1;32m~\\anaconda3\\lib\\site-packages\\selenium\\webdriver\\remote\\webdriver.py:428\u001b[0m, in \u001b[0;36mWebDriver.execute\u001b[1;34m(self, driver_command, params)\u001b[0m\n\u001b[0;32m    426\u001b[0m response \u001b[38;5;241m=\u001b[39m \u001b[38;5;28mself\u001b[39m\u001b[38;5;241m.\u001b[39mcommand_executor\u001b[38;5;241m.\u001b[39mexecute(driver_command, params)\n\u001b[0;32m    427\u001b[0m \u001b[38;5;28;01mif\u001b[39;00m response:\n\u001b[1;32m--> 428\u001b[0m     \u001b[38;5;28;43mself\u001b[39;49m\u001b[38;5;241;43m.\u001b[39;49m\u001b[43merror_handler\u001b[49m\u001b[38;5;241;43m.\u001b[39;49m\u001b[43mcheck_response\u001b[49m\u001b[43m(\u001b[49m\u001b[43mresponse\u001b[49m\u001b[43m)\u001b[49m\n\u001b[0;32m    429\u001b[0m     response[\u001b[38;5;124m'\u001b[39m\u001b[38;5;124mvalue\u001b[39m\u001b[38;5;124m'\u001b[39m] \u001b[38;5;241m=\u001b[39m \u001b[38;5;28mself\u001b[39m\u001b[38;5;241m.\u001b[39m_unwrap_value(\n\u001b[0;32m    430\u001b[0m         response\u001b[38;5;241m.\u001b[39mget(\u001b[38;5;124m'\u001b[39m\u001b[38;5;124mvalue\u001b[39m\u001b[38;5;124m'\u001b[39m, \u001b[38;5;28;01mNone\u001b[39;00m))\n\u001b[0;32m    431\u001b[0m     \u001b[38;5;28;01mreturn\u001b[39;00m response\n",
      "File \u001b[1;32m~\\anaconda3\\lib\\site-packages\\selenium\\webdriver\\remote\\errorhandler.py:243\u001b[0m, in \u001b[0;36mErrorHandler.check_response\u001b[1;34m(self, response)\u001b[0m\n\u001b[0;32m    241\u001b[0m         alert_text \u001b[38;5;241m=\u001b[39m value[\u001b[38;5;124m'\u001b[39m\u001b[38;5;124malert\u001b[39m\u001b[38;5;124m'\u001b[39m]\u001b[38;5;241m.\u001b[39mget(\u001b[38;5;124m'\u001b[39m\u001b[38;5;124mtext\u001b[39m\u001b[38;5;124m'\u001b[39m)\n\u001b[0;32m    242\u001b[0m     \u001b[38;5;28;01mraise\u001b[39;00m exception_class(message, screen, stacktrace, alert_text)  \u001b[38;5;66;03m# type: ignore[call-arg]  # mypy is not smart enough here\u001b[39;00m\n\u001b[1;32m--> 243\u001b[0m \u001b[38;5;28;01mraise\u001b[39;00m exception_class(message, screen, stacktrace)\n",
      "\u001b[1;31mWebDriverException\u001b[0m: Message: unknown error: path is not absolute: Aula 4.pdf\n  (Session info: chrome=105.0.5195.102)\nStacktrace:\nBacktrace:\n\tOrdinal0 [0x00C1DF13+2219795]\n\tOrdinal0 [0x00BB2841+1779777]\n\tOrdinal0 [0x00AC423D+803389]\n\tOrdinal0 [0x00ACB9B7+833975]\n\tOrdinal0 [0x00AECD74+970100]\n\tOrdinal0 [0x00B0E7FC+1107964]\n\tOrdinal0 [0x00AE94B4+955572]\n\tOrdinal0 [0x00B0EA14+1108500]\n\tOrdinal0 [0x00B1F192+1175954]\n\tOrdinal0 [0x00B0E616+1107478]\n\tOrdinal0 [0x00AE7F89+950153]\n\tOrdinal0 [0x00AE8F56+954198]\n\tGetHandleVerifier [0x00F12CB2+3040210]\n\tGetHandleVerifier [0x00F02BB4+2974420]\n\tGetHandleVerifier [0x00CB6A0A+565546]\n\tGetHandleVerifier [0x00CB5680+560544]\n\tOrdinal0 [0x00BB9A5C+1808988]\n\tOrdinal0 [0x00BBE3A8+1827752]\n\tOrdinal0 [0x00BBE495+1827989]\n\tOrdinal0 [0x00BC80A4+1867940]\n\tBaseThreadInitThunk [0x77CBFA29+25]\n\tRtlGetAppContainerNamedObjectPath [0x77E07B5E+286]\n\tRtlGetAppContainerNamedObjectPath [0x77E07B2E+238]\n"
     ]
    }
   ],
   "source": [
    "from concurrent.futures import process\n",
    "from selenium import webdriver\n",
    "from selenium.webdriver.chrome.service import Service\n",
    "from webdriver_manager.chrome import ChromeDriverManager\n",
    "from selenium.webdriver.support.ui import WebDriverWait\n",
    "from selenium.webdriver.support import expected_conditions as EC\n",
    "from selenium.webdriver.common.by import By\n",
    "import datetime\n",
    "import time\n",
    "\n",
    "BASE_URL = \"https://sipseiteste.fiocruz.br/login.php?sigla_orgao_sistema=FIOCRUZ&sigla_sistema=SEI\"\n",
    "\n",
    "class Upload(webdriver.Chrome):\n",
    "    def __init__(self):\n",
    "        options = webdriver.ChromeOptions().add_experimental_option(\"excludeSwitches\", [\"enable-logging\"])\n",
    "        service = Service(ChromeDriverManager().install())\n",
    "        super(Upload, self).__init__(service=service, options=options)\n",
    "        self.maximize_window()\n",
    "        self.implicitly_wait(3)\n",
    "    \n",
    "    def __exit__(self, exc_type, exc_value, trace):\n",
    "        print(\"Saindo...\")\n",
    "        time.sleep(3)\n",
    "  \n",
    "    def pagina_inicial(self):\n",
    "        self.get(BASE_URL)\n",
    "\n",
    "    def signIn(self):\n",
    "        self.find_element(By.CSS_SELECTOR, \"input[type=text]\").send_keys(\"teste\")\n",
    "        self.find_element(By.CSS_SELECTOR, \"input[type=password]\").send_keys(\"teste\")\n",
    "        self.find_element(By.CSS_SELECTOR, \"#sbmLogin\").click()\n",
    "\n",
    "    def find_process(self, process_number):\n",
    "        process_elements = self.find_elements(By.CSS_SELECTOR, \"#tblProcessosRecebidos a.processoVisualizado\")\n",
    "        for process in process_elements:\n",
    "            if process.text == process_number:\n",
    "                process.click()\n",
    "                break\n",
    "  \n",
    "    def handle_file(self):\n",
    "        self.implicitly_wait(10)\n",
    "        nav_frame = self.find_element(By.CSS_SELECTOR, \"#ifrVisualizacao\")\n",
    "        self.switch_to.frame(nav_frame)\n",
    "        self.find_element(By.CSS_SELECTOR, \".infraBarraComandos a\").click()\n",
    "        self.find_element(By.CSS_SELECTOR, \".infraTable td:first-child\").click()\n",
    "        \n",
    "    def submit_form(self, type_doc_value, date, doc_format, access):\n",
    "        self.find_element(By.CSS_SELECTOR, \"#selSerie\").click()\n",
    "        self.find_element(By.CSS_SELECTOR, \"#selSerie option:nth-child(3)\").click()\n",
    "        \n",
    "        self.find_element(By.CSS_SELECTOR, \"#txtDataElaboracao\").send_keys(date)\n",
    "        \n",
    "        self.find_element(By.CSS_SELECTOR, f\"input[name=rdoFormato][value={doc_format}]\").click()\n",
    "        \n",
    "        self.find_element(By.CSS_SELECTOR, f\"input[name=rdoNivelAcesso][value='{access}']\").click()\n",
    "        \n",
    "        file = \"C:\\\\Users\\\\adriano\\\\Documents\\\\Projetos\\\\web_scraping\\\\Upload_file\\\\Aula 4.pdf\"\n",
    "        \n",
    "        self.find_element(By.CSS_SELECTOR, \"input[name=filArquivo]\").send_keys(file)\n",
    "        time.sleep(3)\n",
    "        \n",
    "        self.find_element(By.CSS_SELECTOR, \"#btnSalvar\").click()\n",
    "\n",
    "\n",
    "with Upload() as bot:\n",
    "    bot.pagina_inicial()\n",
    "    bot.signIn()\n",
    "    bot.find_process(\"90.000616/2022-32\")\n",
    "    bot.handle_file()\n",
    "    bot.submit_form(\"8\", \"26/05/2022\", \"N\", \"0\")\n",
    " \n",
    " \n",
    " \n",
    "    \n",
    "    "
   ]
  },
  {
   "cell_type": "code",
   "execution_count": null,
   "metadata": {},
   "outputs": [],
   "source": []
  },
  {
   "cell_type": "code",
   "execution_count": null,
   "metadata": {},
   "outputs": [],
   "source": []
  }
 ],
 "metadata": {
  "kernelspec": {
   "display_name": "Python 3 (ipykernel)",
   "language": "python",
   "name": "python3"
  },
  "language_info": {
   "codemirror_mode": {
    "name": "ipython",
    "version": 3
   },
   "file_extension": ".py",
   "mimetype": "text/x-python",
   "name": "python",
   "nbconvert_exporter": "python",
   "pygments_lexer": "ipython3",
   "version": "3.10.7"
  },
  "vscode": {
   "interpreter": {
    "hash": "972f049b2a38d570944b10e86494c7f07f60a0e6baf2b097054663d40a6efe4a"
   }
  }
 },
 "nbformat": 4,
 "nbformat_minor": 2
}
