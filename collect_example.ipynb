{
 "cells": [
  {
   "cell_type": "code",
   "execution_count": 3,
   "metadata": {},
   "outputs": [
    {
     "name": "stderr",
     "output_type": "stream",
     "text": [
      "/usr/lib/python3/dist-packages/requests/__init__.py:89: RequestsDependencyWarning: urllib3 (1.26.12) or chardet (3.0.4) doesn't match a supported version!\n",
      "  warnings.warn(\"urllib3 ({}) or chardet ({}) doesn't match a supported \"\n",
      "[WDM] - Downloading: 100%|██████████| 6.74M/6.74M [00:01<00:00, 5.96MB/s]\n"
     ]
    },
    {
     "name": "stdout",
     "output_type": "stream",
     "text": [
      "O titulo da aplicação é:  Facebook – entre ou cadastre-se\n",
      "O endereço url é:  https://www.facebook.com/\n"
     ]
    }
   ],
   "source": [
    "from selenium import webdriver\n",
    "from selenium.webdriver.chrome.service import Service\n",
    "from webdriver_manager.chrome import ChromeDriverManager\n",
    "from selenium.webdriver.support.ui import WebDriverWait\n",
    "from selenium.webdriver.common.by import By\n",
    "\n",
    "class Main(webdriver.Chrome):\n",
    "    def __init__(self):\n",
    "        options = webdriver.ChromeOptions().add_experimental_option(\"excludeSwitches\", [\"enable-logging\"])\n",
    "        service = Service(ChromeDriverManager().install())\n",
    "        super(Main, self).__init__(service=service, options=options)\n",
    "        self.maximize_window()\n",
    "        self.implicitly_wait(3)\n",
    "\n",
    "    def openFace(self):\n",
    "        self.get(\"https://facebook.com\")\n",
    "        print(\"O titulo da aplicação é: \", self.title)\n",
    "        print(\"O endereço url é: \", self.current_url)\n",
    "        bot.signInFace()\n",
    "        \n",
    "\n",
    "    def signInFace(self):\n",
    "        self.implicitly_wait(5)\n",
    "        user = self.find_element(By.CSS_SELECTOR, 'input[id=email]')\n",
    "        password = self.find_element(By.CSS_SELECTOR, 'input[id=pass]')\n",
    "        submit = self.find_element(By.CSS_SELECTOR, 'button[type=submit]')\n",
    "\n",
    "        user.send_keys(\"adrianocosta@gmail.com\")\n",
    "        password.send_keys(\"adrianno123\")\n",
    "        submit.click()\n",
    "\n",
    "bot = Main()\n",
    "bot.openFace()\n"
   ]
  }
 ],
 "metadata": {
  "kernelspec": {
   "display_name": "Python 3.10.7 64-bit (microsoft store)",
   "language": "python",
   "name": "python3"
  },
  "language_info": {
   "codemirror_mode": {
    "name": "ipython",
    "version": 3
   },
   "file_extension": ".py",
   "mimetype": "text/x-python",
   "name": "python",
   "nbconvert_exporter": "python",
   "pygments_lexer": "ipython3",
   "version": "3.10.7"
  },
  "orig_nbformat": 4,
  "vscode": {
   "interpreter": {
    "hash": "972f049b2a38d570944b10e86494c7f07f60a0e6baf2b097054663d40a6efe4a"
   }
  }
 },
 "nbformat": 4,
 "nbformat_minor": 2
}
