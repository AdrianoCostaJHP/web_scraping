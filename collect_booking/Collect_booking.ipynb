{
 "cells": [
  {
   "cell_type": "code",
   "execution_count": 3,
   "id": "883a1dec",
   "metadata": {},
   "outputs": [
    {
     "name": "stdout",
     "output_type": "stream",
     "text": [
      "Saindo...\n"
     ]
    }
   ],
   "source": [
    "from selenium import webdriver\n",
    "from selenium.webdriver.chrome.service import Service\n",
    "from webdriver_manager.chrome import ChromeDriverManager\n",
    "from selenium.webdriver.support.ui import WebDriverWait\n",
    "from selenium.webdriver.support import expected_conditions as EC\n",
    "from selenium.webdriver.common.by import By\n",
    "import datetime\n",
    "import time\n",
    "\n",
    "BASE_URL = \"https://www.booking.com/\"\n",
    "\n",
    "class Booking(webdriver.Chrome):\n",
    "  def __init__(self):\n",
    "    options = webdriver.ChromeOptions().add_experimental_option(\"excludeSwitches\", [\"enable-logging\"])\n",
    "    service = Service(ChromeDriverManager().install())\n",
    "    super(Booking, self).__init__(service=service, options=options)\n",
    "    self.maximize_window()\n",
    "    self.implicitly_wait(3)\n",
    "    \n",
    "  def __exit__(self, exc_type, exc_value, trace):\n",
    "    print(\"Saindo...\")\n",
    "    time.sleep(3)\n",
    "  \n",
    "  def pagina_inicial(self):\n",
    "    self.get(BASE_URL)\n",
    "    \n",
    "    \n",
    "    \n",
    "  def mudar_moeda(self, moeda):\n",
    "    if not moeda: \n",
    "      return\n",
    "    self.implicitly_wait(10)\n",
    "    self.find_element(By.CSS_SELECTOR, 'button[data-modal-id=language-selection]').click()\n",
    "    self.find_element(By.CSS_SELECTOR, f'a[data-lang={moeda}]').click()\n",
    "    \n",
    "  def selecionar_local(self, local):\n",
    "    self.find_element(By.CSS_SELECTOR, 'input[type=search]').send_keys(local)\n",
    "    self.find_element(By.CSS_SELECTOR, '.c-autocomplete__list li:first-child').click()\n",
    "    \n",
    "    \n",
    "  def selecionar_datas(self, inicio, termino):\n",
    "    self.find_element(By.CSS_SELECTOR, '.xp__date-time div').click()\n",
    "    self.find_element(By.CSS_SELECTOR, f'td[data-date=\"{inicio}\"]').click()\n",
    "    self.find_element(By.CSS_SELECTOR, f'td[data-date=\"{termino}\"]').click()\n",
    "    \n",
    "  def selecionar_quartos(self, num_adults , num_children):\n",
    "    self.implicitly_wait(10)\n",
    "    self.find_element(By.CSS_SELECTOR, '.xp__guests').click()\n",
    "    \n",
    "    default_adults_value = int(self.find_element(By.CSS_SELECTOR, '.bui-stepper__display').text)\n",
    "    addAdultButton = self.find_element(By.CSS_SELECTOR,'button[aria-describedby=\"group_adults_desc\"]:nth-child(4)')\n",
    "    addChildrenButton = self.find_element(By.CSS_SELECTOR,'button[aria-describedby=\"group_children_desc\"]:nth-child(4)')\n",
    "    \n",
    "    \n",
    "    for i in range(num_adults - default_adults_value):\n",
    "      addAdultButton.click() \n",
    "      \n",
    "    for i in range(num_children):\n",
    "      addChildrenButton.click() \n",
    "    \n",
    "    \n",
    "    selectorKids = self.find_elements(By.CSS_SELECTOR,'.sb-group__children__field select')\n",
    "    for i in range(num_children):\n",
    "      selectorKids[i].click()\n",
    "      selectorKids[i].find_element(By.CSS_SELECTOR, 'option:last-child').click()\n",
    "    \n",
    "    self.find_element(By.CSS_SELECTOR, '.sb-searchbox__button').click()\n",
    "    \n",
    "\n",
    "with Booking() as bot:\n",
    "  bot.pagina_inicial()\n",
    "  bot.mudar_moeda(\"pt-br\")\n",
    "  bot.selecionar_local(\"Rio de janeiro\")\n",
    "  \n",
    "  inicio = datetime.datetime(2022, 9, 20).strftime(\"%Y-%m-%d\")\n",
    "  termino = datetime.datetime(2022, 9, 23).strftime(\"%Y-%m-%d\")\n",
    "\n",
    "  bot.selecionar_datas(inicio, termino)\n",
    "  bot.selecionar_quartos(2, 3)\n",
    " \n",
    " \n",
    " \n",
    "    \n",
    "    "
   ]
  },
  {
   "cell_type": "code",
   "execution_count": null,
   "id": "5b2d33b2",
   "metadata": {},
   "outputs": [],
   "source": []
  }
 ],
 "metadata": {
  "kernelspec": {
   "display_name": "Python 3.10.7 64-bit (microsoft store)",
   "language": "python",
   "name": "python3"
  },
  "language_info": {
   "codemirror_mode": {
    "name": "ipython",
    "version": 3
   },
   "file_extension": ".py",
   "mimetype": "text/x-python",
   "name": "python",
   "nbconvert_exporter": "python",
   "pygments_lexer": "ipython3",
   "version": "3.10.7"
  },
  "vscode": {
   "interpreter": {
    "hash": "972f049b2a38d570944b10e86494c7f07f60a0e6baf2b097054663d40a6efe4a"
   }
  }
 },
 "nbformat": 4,
 "nbformat_minor": 5
}
