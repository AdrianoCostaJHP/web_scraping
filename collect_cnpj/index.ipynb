{
 "cells": [
  {
   "cell_type": "code",
   "execution_count": 115,
   "metadata": {},
   "outputs": [],
   "source": [
    "from selenium import webdriver\n",
    "from selenium.webdriver.chrome.service import Service\n",
    "from selenium.webdriver.common.by import By\n",
    "from selenium.webdriver.support.ui import WebDriverWait\n",
    "from selenium.webdriver.support import expected_conditions as EC\n",
    "from selenium.webdriver.common.keys import Keys\n",
    "from webdriver_manager.chrome import ChromeDriverManager\n",
    "import pandas as pd\n",
    "\n",
    "class Main(webdriver.Chrome):\n",
    "  def __init__(self):\n",
    "    options = webdriver.ChromeOptions().add_experimental_option(\"excludeSwitches\", [\"enable-logging\"])\n",
    "    service = Service(ChromeDriverManager().install())\n",
    "    super(Main, self).__init__(service=service, options=options)\n",
    "    self.maximize_window()\n",
    "    self.get(\"https://voluntarias.plataformamaisbrasil.gov.br/voluntarias/Principal/Principal.do?Usr=guest&Pwd=guest\")\n",
    "    \n",
    "  def readSingleColumn(self, columnName, lines):\n",
    "    df = pd.read_excel(\"/home/adriano/Downloads/solicitacoes.xlsx\")\n",
    "    lines = df.iloc[1:lines]\n",
    "    return lines[columnName].to_list()\n",
    "  \n",
    "  def writeDocument(self, data, colunas):\n",
    "    df = pd.DataFrame(data).transpose()\n",
    "    df.columns = colunas\n",
    "    df.to_excel('cnpj.xlsx', index=False, header=True)\n",
    "    \n",
    "\n",
    "  \n",
    "  def getData(self, array):\n",
    "    self.implicitly_wait(30)\n",
    "    self.find_element(By.CSS_SELECTOR, '.col1 :nth-child(4)').click()\n",
    "    self.find_element(By.CSS_SELECTOR, '.colM ul > li a' ).click()\n",
    "    search_url = self.current_url\n",
    "    \n",
    "    data = [[],[]]\n",
    "    for convenio in array:\n",
    "      self.implicitly_wait(10)\n",
    "      self.find_element(By.CSS_SELECTOR, 'input[id=consultarNumeroConvenio]').send_keys(convenio)\n",
    "      self.find_element(By.CSS_SELECTOR, 'input[id=form_submit][type=button]').click()\n",
    "      self.find_element(By.CSS_SELECTOR, '.numeroConvenio a').click()\n",
    "      cnpj = self.find_element(By.CSS_SELECTOR, '.proponente .field > div').text\n",
    "      data[0].append(convenio)\n",
    "      data[1].append(cnpj.split(' ')[1])\n",
    "      self.get(search_url)\n",
    "      self.find_element(By.CSS_SELECTOR, 'input[id=consultarNumeroConvenio]').clear()\n",
    "      self.find_element(By.CSS_SELECTOR, 'input[id=consultarNumeroProposta]').clear()\n",
    "    self.writeDocument(data, [\"convenio\", \"cnpj\"])\n",
    "    self.close()\n",
    "    \n",
    "  \n",
    "  \n",
    "bot = Main()\n",
    "requestList = bot.readSingleColumn(\"N° Convênio\", 10)\n",
    "bot.getData(requestList)\n"
   ]
  }
 ],
 "metadata": {
  "kernelspec": {
   "display_name": "Python 3.8.10 64-bit",
   "language": "python",
   "name": "python3"
  },
  "language_info": {
   "codemirror_mode": {
    "name": "ipython",
    "version": 3
   },
   "file_extension": ".py",
   "mimetype": "text/x-python",
   "name": "python",
   "nbconvert_exporter": "python",
   "pygments_lexer": "ipython3",
   "version": "3.8.10"
  },
  "orig_nbformat": 4,
  "vscode": {
   "interpreter": {
    "hash": "916dbcbb3f70747c44a77c7bcd40155683ae19c65e1c03b4aa3499c5328201f1"
   }
  }
 },
 "nbformat": 4,
 "nbformat_minor": 2
}
