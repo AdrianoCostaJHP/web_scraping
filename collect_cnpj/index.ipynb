{
 "cells": [
  {
   "cell_type": "code",
   "execution_count": 1,
   "metadata": {},
   "outputs": [
    {
     "ename": "ModuleNotFoundError",
     "evalue": "No module named 'webdriver_manager'",
     "output_type": "error",
     "traceback": [
      "\u001b[1;31m---------------------------------------------------------------------------\u001b[0m",
      "\u001b[1;31mModuleNotFoundError\u001b[0m                       Traceback (most recent call last)",
      "\u001b[1;32mc:\\Users\\adriano\\Documents\\Projetos\\web_scraping\\collect_cnpj\\index.ipynb Célula: 1\u001b[0m in \u001b[0;36m<cell line: 7>\u001b[1;34m()\u001b[0m\n\u001b[0;32m      <a href='vscode-notebook-cell:/c%3A/Users/adriano/Documents/Projetos/web_scraping/collect_cnpj/index.ipynb#W0sZmlsZQ%3D%3D?line=4'>5</a>\u001b[0m \u001b[39mfrom\u001b[39;00m \u001b[39mselenium\u001b[39;00m\u001b[39m.\u001b[39;00m\u001b[39mwebdriver\u001b[39;00m\u001b[39m.\u001b[39;00m\u001b[39msupport\u001b[39;00m \u001b[39mimport\u001b[39;00m expected_conditions \u001b[39mas\u001b[39;00m EC\n\u001b[0;32m      <a href='vscode-notebook-cell:/c%3A/Users/adriano/Documents/Projetos/web_scraping/collect_cnpj/index.ipynb#W0sZmlsZQ%3D%3D?line=5'>6</a>\u001b[0m \u001b[39mfrom\u001b[39;00m \u001b[39mselenium\u001b[39;00m\u001b[39m.\u001b[39;00m\u001b[39mwebdriver\u001b[39;00m\u001b[39m.\u001b[39;00m\u001b[39mcommon\u001b[39;00m\u001b[39m.\u001b[39;00m\u001b[39mkeys\u001b[39;00m \u001b[39mimport\u001b[39;00m Keys\n\u001b[1;32m----> <a href='vscode-notebook-cell:/c%3A/Users/adriano/Documents/Projetos/web_scraping/collect_cnpj/index.ipynb#W0sZmlsZQ%3D%3D?line=6'>7</a>\u001b[0m \u001b[39mfrom\u001b[39;00m \u001b[39mwebdriver_manager\u001b[39;00m\u001b[39m.\u001b[39;00m\u001b[39mchrome\u001b[39;00m \u001b[39mimport\u001b[39;00m ChromeDriverManager\n\u001b[0;32m      <a href='vscode-notebook-cell:/c%3A/Users/adriano/Documents/Projetos/web_scraping/collect_cnpj/index.ipynb#W0sZmlsZQ%3D%3D?line=7'>8</a>\u001b[0m \u001b[39mimport\u001b[39;00m \u001b[39mpandas\u001b[39;00m \u001b[39mas\u001b[39;00m \u001b[39mpd\u001b[39;00m\n\u001b[0;32m     <a href='vscode-notebook-cell:/c%3A/Users/adriano/Documents/Projetos/web_scraping/collect_cnpj/index.ipynb#W0sZmlsZQ%3D%3D?line=9'>10</a>\u001b[0m \u001b[39mclass\u001b[39;00m \u001b[39mMain\u001b[39;00m(webdriver\u001b[39m.\u001b[39mChrome):\n",
      "\u001b[1;31mModuleNotFoundError\u001b[0m: No module named 'webdriver_manager'"
     ]
    }
   ],
   "source": [
    "from selenium import webdriver\n",
    "from selenium.webdriver.chrome.service import Service\n",
    "from selenium.webdriver.common.by import By\n",
    "from selenium.webdriver.support.ui import WebDriverWait\n",
    "from selenium.webdriver.support import expected_conditions as EC\n",
    "from selenium.webdriver.common.keys import Keys\n",
    "from webdriver_manager.chrome import ChromeDriverManager\n",
    "import pandas as pd\n",
    "\n",
    "class Main(webdriver.Chrome):\n",
    "  def __init__(self):\n",
    "    options = webdriver.ChromeOptions().add_experimental_option(\"excludeSwitches\", [\"enable-logging\"])\n",
    "    service = Service(ChromeDriverManager().install())\n",
    "    super(Main, self).__init__(service=service, options=options)\n",
    "    self.maximize_window()\n",
    "    self.get(\"https://voluntarias.plataformamaisbrasil.gov.br/voluntarias/Principal/Principal.do?Usr=guest&Pwd=guest\")\n",
    "    \n",
    "  def readSingleColumn(self, columnName, lines):\n",
    "    df = pd.read_excel(\"/home/adriano/Downloads/solicitacoes.xlsx\")\n",
    "    lines = df.iloc[1:lines]\n",
    "    return lines[columnName].to_list()\n",
    "  \n",
    "  def writeDocument(self, data, colunas):\n",
    "    df = pd.DataFrame(data).transpose()\n",
    "    df.columns = colunas\n",
    "    df.to_excel('cnpj.xlsx', index=False, header=True)\n",
    "    \n",
    "\n",
    "  \n",
    "  def getData(self, array):\n",
    "    self.implicitly_wait(30)\n",
    "    self.find_element(By.CSS_SELECTOR, '.col1 :nth-child(4)').click()\n",
    "    self.find_element(By.CSS_SELECTOR, '.colM ul > li a' ).click()\n",
    "    search_url = self.current_url\n",
    "    \n",
    "    data = [[],[]]\n",
    "    for convenio in array:\n",
    "      self.implicitly_wait(10)\n",
    "      self.find_element(By.CSS_SELECTOR, 'input[id=consultarNumeroConvenio]').send_keys(convenio)\n",
    "      self.find_element(By.CSS_SELECTOR, 'input[id=form_submit][type=button]').click()\n",
    "      self.find_element(By.CSS_SELECTOR, '.numeroConvenio a').click()\n",
    "      cnpj = self.find_element(By.CSS_SELECTOR, '.proponente .field > div').text\n",
    "      data[0].append(convenio)\n",
    "      data[1].append(cnpj.split(' ')[1])\n",
    "      self.get(search_url)\n",
    "      self.find_element(By.CSS_SELECTOR, 'input[id=consultarNumeroConvenio]').clear()\n",
    "      self.find_element(By.CSS_SELECTOR, 'input[id=consultarNumeroProposta]').clear()\n",
    "    self.writeDocument(data, [\"convenio\", \"cnpj\"])\n",
    "    self.close()\n",
    "    \n",
    "  \n",
    "  \n",
    "bot = Main()\n",
    "requestList = bot.readSingleColumn(\"N° Convênio\", 10)\n",
    "bot.getData(requestList)\n"
   ]
  }
 ],
 "metadata": {
  "kernelspec": {
   "display_name": "Python 3.10.6 64-bit",
   "language": "python",
   "name": "python3"
  },
  "language_info": {
   "codemirror_mode": {
    "name": "ipython",
    "version": 3
   },
   "file_extension": ".py",
   "mimetype": "text/x-python",
   "name": "python",
   "nbconvert_exporter": "python",
   "pygments_lexer": "ipython3",
   "version": "3.10.6"
  },
  "orig_nbformat": 4,
  "vscode": {
   "interpreter": {
    "hash": "369f2c481f4da34e4445cda3fffd2e751bd1c4d706f27375911949ba6bb62e1c"
   }
  }
 },
 "nbformat": 4,
 "nbformat_minor": 2
}
